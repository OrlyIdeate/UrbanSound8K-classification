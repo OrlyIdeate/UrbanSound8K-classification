{
 "cells": [
  {
   "cell_type": "code",
   "execution_count": 1,
   "id": "a8586aa0",
   "metadata": {},
   "outputs": [
    {
     "name": "stdout",
     "output_type": "stream",
     "text": [
      "Python: 3.12.7 | packaged by Anaconda, Inc. | (main, Oct  4 2024, 13:17:27) [MSC v.1929 64 bit (AMD64)]\n",
      "Torch: 2.8.0+cpu\n",
      "Torchaudio: 2.8.0+cpu\n",
      "Librosa: 0.11.0\n",
      "CUDA available: False\n"
     ]
    }
   ],
   "source": [
    "import torch, torchaudio, librosa, sys\n",
    "print(\"Python:\", sys.version)\n",
    "print(\"Torch:\", torch.__version__)\n",
    "print(\"Torchaudio:\", torchaudio.__version__)\n",
    "print(\"Librosa:\", librosa.__version__)\n",
    "print(\"CUDA available:\", torch.cuda.is_available())"
   ]
  }
 ],
 "metadata": {
  "kernelspec": {
   "display_name": ".venv",
   "language": "python",
   "name": "python3"
  },
  "language_info": {
   "codemirror_mode": {
    "name": "ipython",
    "version": 3
   },
   "file_extension": ".py",
   "mimetype": "text/x-python",
   "name": "python",
   "nbconvert_exporter": "python",
   "pygments_lexer": "ipython3",
   "version": "3.12.7"
  }
 },
 "nbformat": 4,
 "nbformat_minor": 5
}
